{
 "cells": [
  {
   "cell_type": "code",
   "execution_count": 14,
   "metadata": {},
   "outputs": [],
   "source": [
    "##!!!! The Word document 'Project One Submission File' contains a more In Depth explanation of the code to look through\n",
    "#SO please read that \n",
    "\n",
    "#import libraries\n",
    "import pandas as pd\n",
    "import numpy as np"
   ]
  },
  {
   "cell_type": "code",
   "execution_count": 15,
   "metadata": {},
   "outputs": [],
   "source": [
    "#Store the CSV Files into variables\n",
    "\n",
    "global_data = pd.read_csv('global_data.csv')"
   ]
  },
  {
   "cell_type": "code",
   "execution_count": 16,
   "metadata": {},
   "outputs": [
    {
     "data": {
      "text/html": [
       "<div>\n",
       "<style scoped>\n",
       "    .dataframe tbody tr th:only-of-type {\n",
       "        vertical-align: middle;\n",
       "    }\n",
       "\n",
       "    .dataframe tbody tr th {\n",
       "        vertical-align: top;\n",
       "    }\n",
       "\n",
       "    .dataframe thead th {\n",
       "        text-align: right;\n",
       "    }\n",
       "</style>\n",
       "<table border=\"1\" class=\"dataframe\">\n",
       "  <thead>\n",
       "    <tr style=\"text-align: right;\">\n",
       "      <th></th>\n",
       "      <th>year</th>\n",
       "      <th>city</th>\n",
       "      <th>country</th>\n",
       "      <th>avg_temp</th>\n",
       "    </tr>\n",
       "  </thead>\n",
       "  <tbody>\n",
       "    <tr>\n",
       "      <th>0</th>\n",
       "      <td>1743</td>\n",
       "      <td>Cardiff</td>\n",
       "      <td>United Kingdom</td>\n",
       "      <td>7.07</td>\n",
       "    </tr>\n",
       "    <tr>\n",
       "      <th>1</th>\n",
       "      <td>1744</td>\n",
       "      <td>Cardiff</td>\n",
       "      <td>United Kingdom</td>\n",
       "      <td>9.80</td>\n",
       "    </tr>\n",
       "    <tr>\n",
       "      <th>2</th>\n",
       "      <td>1745</td>\n",
       "      <td>Cardiff</td>\n",
       "      <td>United Kingdom</td>\n",
       "      <td>4.05</td>\n",
       "    </tr>\n",
       "    <tr>\n",
       "      <th>3</th>\n",
       "      <td>1746</td>\n",
       "      <td>Cardiff</td>\n",
       "      <td>United Kingdom</td>\n",
       "      <td>NaN</td>\n",
       "    </tr>\n",
       "    <tr>\n",
       "      <th>4</th>\n",
       "      <td>1747</td>\n",
       "      <td>Cardiff</td>\n",
       "      <td>United Kingdom</td>\n",
       "      <td>NaN</td>\n",
       "    </tr>\n",
       "    <tr>\n",
       "      <th>...</th>\n",
       "      <td>...</td>\n",
       "      <td>...</td>\n",
       "      <td>...</td>\n",
       "      <td>...</td>\n",
       "    </tr>\n",
       "    <tr>\n",
       "      <th>266</th>\n",
       "      <td>2009</td>\n",
       "      <td>Cardiff</td>\n",
       "      <td>United Kingdom</td>\n",
       "      <td>9.90</td>\n",
       "    </tr>\n",
       "    <tr>\n",
       "      <th>267</th>\n",
       "      <td>2010</td>\n",
       "      <td>Cardiff</td>\n",
       "      <td>United Kingdom</td>\n",
       "      <td>8.80</td>\n",
       "    </tr>\n",
       "    <tr>\n",
       "      <th>268</th>\n",
       "      <td>2011</td>\n",
       "      <td>Cardiff</td>\n",
       "      <td>United Kingdom</td>\n",
       "      <td>10.63</td>\n",
       "    </tr>\n",
       "    <tr>\n",
       "      <th>269</th>\n",
       "      <td>2012</td>\n",
       "      <td>Cardiff</td>\n",
       "      <td>United Kingdom</td>\n",
       "      <td>9.55</td>\n",
       "    </tr>\n",
       "    <tr>\n",
       "      <th>270</th>\n",
       "      <td>2013</td>\n",
       "      <td>Cardiff</td>\n",
       "      <td>United Kingdom</td>\n",
       "      <td>9.57</td>\n",
       "    </tr>\n",
       "  </tbody>\n",
       "</table>\n",
       "<p>271 rows × 4 columns</p>\n",
       "</div>"
      ],
      "text/plain": [
       "     year     city         country  avg_temp\n",
       "0    1743  Cardiff  United Kingdom      7.07\n",
       "1    1744  Cardiff  United Kingdom      9.80\n",
       "2    1745  Cardiff  United Kingdom      4.05\n",
       "3    1746  Cardiff  United Kingdom       NaN\n",
       "4    1747  Cardiff  United Kingdom       NaN\n",
       "..    ...      ...             ...       ...\n",
       "266  2009  Cardiff  United Kingdom      9.90\n",
       "267  2010  Cardiff  United Kingdom      8.80\n",
       "268  2011  Cardiff  United Kingdom     10.63\n",
       "269  2012  Cardiff  United Kingdom      9.55\n",
       "270  2013  Cardiff  United Kingdom      9.57\n",
       "\n",
       "[271 rows x 4 columns]"
      ]
     },
     "execution_count": 16,
     "metadata": {},
     "output_type": "execute_result"
    }
   ],
   "source": [
    "cardiff_data = pd.read_csv('cardiff_data.csv')\n",
    "cardiff_data"
   ]
  },
  {
   "cell_type": "raw",
   "metadata": {},
   "source": []
  },
  {
   "cell_type": "code",
   "execution_count": 17,
   "metadata": {},
   "outputs": [],
   "source": [
    "#drop null values in cardiff_data\n",
    "cardiff_data = cardiff_data.dropna()"
   ]
  },
  {
   "cell_type": "code",
   "execution_count": 18,
   "metadata": {},
   "outputs": [
    {
     "name": "stderr",
     "output_type": "stream",
     "text": [
      "<ipython-input-18-3cc06a7b877d>:3: SettingWithCopyWarning: \n",
      "A value is trying to be set on a copy of a slice from a DataFrame.\n",
      "Try using .loc[row_indexer,col_indexer] = value instead\n",
      "\n",
      "See the caveats in the documentation: https://pandas.pydata.org/pandas-docs/stable/user_guide/indexing.html#returning-a-view-versus-a-copy\n",
      "  cardiff_data['10_Year_Moving_Average'] = cardiff_data.iloc[:,3].rolling(window=10).mean()\n"
     ]
    },
    {
     "data": {
      "text/plain": [
       "\"For this code I code inspiration from the article on https://www.datacamp.com/community/tutorials/moving-averages-in-pandas.\\n\\nTo show I understand this, the ‘global_data['5_Year_Moving_Average']’ creates a column in the global_data dataframe that\\nis equal to the global_data, with all rows represented by the first parameter ‘:’, and the column with index ‘1’ represented \\nby the second parameter.\\n\\nThen the ‘.rolling’ method is a built in function that creates a cumulative addition of previous numbers, with the \\nparameter ‘window=7’ being passed which states how many previous rows should be added.\\n\\nAnd finally the .mean() method is a built in function to calculate the mean of this \\n‘window’ which will give us the 7-year moving average.\\n\""
      ]
     },
     "execution_count": 18,
     "metadata": {},
     "output_type": "execute_result"
    }
   ],
   "source": [
    "#Create a 10 Year moving average\n",
    "\n",
    "cardiff_data['10_Year_Moving_Average'] = cardiff_data.iloc[:,3].rolling(window=10).mean()\n",
    "\n",
    "\n",
    "'''For this code I code inspiration from the article on https://www.datacamp.com/community/tutorials/moving-averages-in-pandas.\n",
    "\n",
    "To show I understand this, the ‘global_data['5_Year_Moving_Average']’ creates a column in the global_data dataframe that\n",
    "is equal to the global_data, with all rows represented by the first parameter ‘:’, and the column with index ‘1’ represented \n",
    "by the second parameter.\n",
    "\n",
    "Then the ‘.rolling’ method is a built in function that creates a cumulative addition of previous numbers, with the \n",
    "parameter ‘window=7’ being passed which states how many previous rows should be added.\n",
    "\n",
    "And finally the .mean() method is a built in function to calculate the mean of this \n",
    "‘window’ which will give us the 7-year moving average.\n",
    "'''"
   ]
  },
  {
   "cell_type": "code",
   "execution_count": 19,
   "metadata": {},
   "outputs": [
    {
     "data": {
      "text/html": [
       "<div>\n",
       "<style scoped>\n",
       "    .dataframe tbody tr th:only-of-type {\n",
       "        vertical-align: middle;\n",
       "    }\n",
       "\n",
       "    .dataframe tbody tr th {\n",
       "        vertical-align: top;\n",
       "    }\n",
       "\n",
       "    .dataframe thead th {\n",
       "        text-align: right;\n",
       "    }\n",
       "</style>\n",
       "<table border=\"1\" class=\"dataframe\">\n",
       "  <thead>\n",
       "    <tr style=\"text-align: right;\">\n",
       "      <th></th>\n",
       "      <th>year</th>\n",
       "      <th>city</th>\n",
       "      <th>country</th>\n",
       "      <th>avg_temp</th>\n",
       "      <th>10_Year_Moving_Average</th>\n",
       "    </tr>\n",
       "  </thead>\n",
       "  <tbody>\n",
       "    <tr>\n",
       "      <th>0</th>\n",
       "      <td>1743</td>\n",
       "      <td>Cardiff</td>\n",
       "      <td>United Kingdom</td>\n",
       "      <td>7.07</td>\n",
       "      <td>NaN</td>\n",
       "    </tr>\n",
       "    <tr>\n",
       "      <th>1</th>\n",
       "      <td>1744</td>\n",
       "      <td>Cardiff</td>\n",
       "      <td>United Kingdom</td>\n",
       "      <td>9.80</td>\n",
       "      <td>NaN</td>\n",
       "    </tr>\n",
       "    <tr>\n",
       "      <th>2</th>\n",
       "      <td>1745</td>\n",
       "      <td>Cardiff</td>\n",
       "      <td>United Kingdom</td>\n",
       "      <td>4.05</td>\n",
       "      <td>NaN</td>\n",
       "    </tr>\n",
       "    <tr>\n",
       "      <th>7</th>\n",
       "      <td>1750</td>\n",
       "      <td>Cardiff</td>\n",
       "      <td>United Kingdom</td>\n",
       "      <td>9.73</td>\n",
       "      <td>NaN</td>\n",
       "    </tr>\n",
       "    <tr>\n",
       "      <th>8</th>\n",
       "      <td>1751</td>\n",
       "      <td>Cardiff</td>\n",
       "      <td>United Kingdom</td>\n",
       "      <td>9.51</td>\n",
       "      <td>NaN</td>\n",
       "    </tr>\n",
       "    <tr>\n",
       "      <th>...</th>\n",
       "      <td>...</td>\n",
       "      <td>...</td>\n",
       "      <td>...</td>\n",
       "      <td>...</td>\n",
       "      <td>...</td>\n",
       "    </tr>\n",
       "    <tr>\n",
       "      <th>266</th>\n",
       "      <td>2009</td>\n",
       "      <td>Cardiff</td>\n",
       "      <td>United Kingdom</td>\n",
       "      <td>9.90</td>\n",
       "      <td>10.137</td>\n",
       "    </tr>\n",
       "    <tr>\n",
       "      <th>267</th>\n",
       "      <td>2010</td>\n",
       "      <td>Cardiff</td>\n",
       "      <td>United Kingdom</td>\n",
       "      <td>8.80</td>\n",
       "      <td>10.020</td>\n",
       "    </tr>\n",
       "    <tr>\n",
       "      <th>268</th>\n",
       "      <td>2011</td>\n",
       "      <td>Cardiff</td>\n",
       "      <td>United Kingdom</td>\n",
       "      <td>10.63</td>\n",
       "      <td>10.114</td>\n",
       "    </tr>\n",
       "    <tr>\n",
       "      <th>269</th>\n",
       "      <td>2012</td>\n",
       "      <td>Cardiff</td>\n",
       "      <td>United Kingdom</td>\n",
       "      <td>9.55</td>\n",
       "      <td>10.041</td>\n",
       "    </tr>\n",
       "    <tr>\n",
       "      <th>270</th>\n",
       "      <td>2013</td>\n",
       "      <td>Cardiff</td>\n",
       "      <td>United Kingdom</td>\n",
       "      <td>9.57</td>\n",
       "      <td>9.973</td>\n",
       "    </tr>\n",
       "  </tbody>\n",
       "</table>\n",
       "<p>267 rows × 5 columns</p>\n",
       "</div>"
      ],
      "text/plain": [
       "     year     city         country  avg_temp  10_Year_Moving_Average\n",
       "0    1743  Cardiff  United Kingdom      7.07                     NaN\n",
       "1    1744  Cardiff  United Kingdom      9.80                     NaN\n",
       "2    1745  Cardiff  United Kingdom      4.05                     NaN\n",
       "7    1750  Cardiff  United Kingdom      9.73                     NaN\n",
       "8    1751  Cardiff  United Kingdom      9.51                     NaN\n",
       "..    ...      ...             ...       ...                     ...\n",
       "266  2009  Cardiff  United Kingdom      9.90                  10.137\n",
       "267  2010  Cardiff  United Kingdom      8.80                  10.020\n",
       "268  2011  Cardiff  United Kingdom     10.63                  10.114\n",
       "269  2012  Cardiff  United Kingdom      9.55                  10.041\n",
       "270  2013  Cardiff  United Kingdom      9.57                   9.973\n",
       "\n",
       "[267 rows x 5 columns]"
      ]
     },
     "execution_count": 19,
     "metadata": {},
     "output_type": "execute_result"
    }
   ],
   "source": [
    "cardiff_data"
   ]
  },
  {
   "cell_type": "code",
   "execution_count": 20,
   "metadata": {},
   "outputs": [],
   "source": [
    "#https://www.datacamp.com/community/tutorials/moving-averages-in-pandas"
   ]
  },
  {
   "cell_type": "code",
   "execution_count": 21,
   "metadata": {},
   "outputs": [],
   "source": [
    "import matplotlib.pyplot as plt\n",
    "%matplotlib inline"
   ]
  },
  {
   "cell_type": "code",
   "execution_count": 23,
   "metadata": {},
   "outputs": [],
   "source": [
    "#Global Data\n",
    "global_data = pd.read_csv('global_data.csv')"
   ]
  },
  {
   "cell_type": "code",
   "execution_count": 24,
   "metadata": {},
   "outputs": [
    {
     "data": {
      "text/html": [
       "<div>\n",
       "<style scoped>\n",
       "    .dataframe tbody tr th:only-of-type {\n",
       "        vertical-align: middle;\n",
       "    }\n",
       "\n",
       "    .dataframe tbody tr th {\n",
       "        vertical-align: top;\n",
       "    }\n",
       "\n",
       "    .dataframe thead th {\n",
       "        text-align: right;\n",
       "    }\n",
       "</style>\n",
       "<table border=\"1\" class=\"dataframe\">\n",
       "  <thead>\n",
       "    <tr style=\"text-align: right;\">\n",
       "      <th></th>\n",
       "      <th>year</th>\n",
       "      <th>avg_temp</th>\n",
       "    </tr>\n",
       "  </thead>\n",
       "  <tbody>\n",
       "    <tr>\n",
       "      <th>0</th>\n",
       "      <td>1750</td>\n",
       "      <td>8.72</td>\n",
       "    </tr>\n",
       "    <tr>\n",
       "      <th>1</th>\n",
       "      <td>1751</td>\n",
       "      <td>7.98</td>\n",
       "    </tr>\n",
       "    <tr>\n",
       "      <th>2</th>\n",
       "      <td>1752</td>\n",
       "      <td>5.78</td>\n",
       "    </tr>\n",
       "    <tr>\n",
       "      <th>3</th>\n",
       "      <td>1753</td>\n",
       "      <td>8.39</td>\n",
       "    </tr>\n",
       "    <tr>\n",
       "      <th>4</th>\n",
       "      <td>1754</td>\n",
       "      <td>8.47</td>\n",
       "    </tr>\n",
       "    <tr>\n",
       "      <th>...</th>\n",
       "      <td>...</td>\n",
       "      <td>...</td>\n",
       "    </tr>\n",
       "    <tr>\n",
       "      <th>261</th>\n",
       "      <td>2011</td>\n",
       "      <td>9.52</td>\n",
       "    </tr>\n",
       "    <tr>\n",
       "      <th>262</th>\n",
       "      <td>2012</td>\n",
       "      <td>9.51</td>\n",
       "    </tr>\n",
       "    <tr>\n",
       "      <th>263</th>\n",
       "      <td>2013</td>\n",
       "      <td>9.61</td>\n",
       "    </tr>\n",
       "    <tr>\n",
       "      <th>264</th>\n",
       "      <td>2014</td>\n",
       "      <td>9.57</td>\n",
       "    </tr>\n",
       "    <tr>\n",
       "      <th>265</th>\n",
       "      <td>2015</td>\n",
       "      <td>9.83</td>\n",
       "    </tr>\n",
       "  </tbody>\n",
       "</table>\n",
       "<p>266 rows × 2 columns</p>\n",
       "</div>"
      ],
      "text/plain": [
       "     year  avg_temp\n",
       "0    1750      8.72\n",
       "1    1751      7.98\n",
       "2    1752      5.78\n",
       "3    1753      8.39\n",
       "4    1754      8.47\n",
       "..    ...       ...\n",
       "261  2011      9.52\n",
       "262  2012      9.51\n",
       "263  2013      9.61\n",
       "264  2014      9.57\n",
       "265  2015      9.83\n",
       "\n",
       "[266 rows x 2 columns]"
      ]
     },
     "execution_count": 24,
     "metadata": {},
     "output_type": "execute_result"
    }
   ],
   "source": [
    "global_data"
   ]
  },
  {
   "cell_type": "code",
   "execution_count": 25,
   "metadata": {},
   "outputs": [],
   "source": [
    "global_data = global_data.dropna()"
   ]
  },
  {
   "cell_type": "code",
   "execution_count": 26,
   "metadata": {},
   "outputs": [],
   "source": [
    "global_data['10_Year_Moving_Average'] = global_data.iloc[:,1].rolling(window=10).mean()\n"
   ]
  },
  {
   "cell_type": "code",
   "execution_count": 27,
   "metadata": {},
   "outputs": [
    {
     "data": {
      "text/html": [
       "<div>\n",
       "<style scoped>\n",
       "    .dataframe tbody tr th:only-of-type {\n",
       "        vertical-align: middle;\n",
       "    }\n",
       "\n",
       "    .dataframe tbody tr th {\n",
       "        vertical-align: top;\n",
       "    }\n",
       "\n",
       "    .dataframe thead th {\n",
       "        text-align: right;\n",
       "    }\n",
       "</style>\n",
       "<table border=\"1\" class=\"dataframe\">\n",
       "  <thead>\n",
       "    <tr style=\"text-align: right;\">\n",
       "      <th></th>\n",
       "      <th>year</th>\n",
       "      <th>avg_temp</th>\n",
       "      <th>10_Year_Moving_Average</th>\n",
       "    </tr>\n",
       "  </thead>\n",
       "  <tbody>\n",
       "    <tr>\n",
       "      <th>0</th>\n",
       "      <td>1750</td>\n",
       "      <td>8.72</td>\n",
       "      <td>NaN</td>\n",
       "    </tr>\n",
       "    <tr>\n",
       "      <th>1</th>\n",
       "      <td>1751</td>\n",
       "      <td>7.98</td>\n",
       "      <td>NaN</td>\n",
       "    </tr>\n",
       "    <tr>\n",
       "      <th>2</th>\n",
       "      <td>1752</td>\n",
       "      <td>5.78</td>\n",
       "      <td>NaN</td>\n",
       "    </tr>\n",
       "    <tr>\n",
       "      <th>3</th>\n",
       "      <td>1753</td>\n",
       "      <td>8.39</td>\n",
       "      <td>NaN</td>\n",
       "    </tr>\n",
       "    <tr>\n",
       "      <th>4</th>\n",
       "      <td>1754</td>\n",
       "      <td>8.47</td>\n",
       "      <td>NaN</td>\n",
       "    </tr>\n",
       "    <tr>\n",
       "      <th>...</th>\n",
       "      <td>...</td>\n",
       "      <td>...</td>\n",
       "      <td>...</td>\n",
       "    </tr>\n",
       "    <tr>\n",
       "      <th>261</th>\n",
       "      <td>2011</td>\n",
       "      <td>9.52</td>\n",
       "      <td>9.554</td>\n",
       "    </tr>\n",
       "    <tr>\n",
       "      <th>262</th>\n",
       "      <td>2012</td>\n",
       "      <td>9.51</td>\n",
       "      <td>9.548</td>\n",
       "    </tr>\n",
       "    <tr>\n",
       "      <th>263</th>\n",
       "      <td>2013</td>\n",
       "      <td>9.61</td>\n",
       "      <td>9.556</td>\n",
       "    </tr>\n",
       "    <tr>\n",
       "      <th>264</th>\n",
       "      <td>2014</td>\n",
       "      <td>9.57</td>\n",
       "      <td>9.581</td>\n",
       "    </tr>\n",
       "    <tr>\n",
       "      <th>265</th>\n",
       "      <td>2015</td>\n",
       "      <td>9.83</td>\n",
       "      <td>9.594</td>\n",
       "    </tr>\n",
       "  </tbody>\n",
       "</table>\n",
       "<p>266 rows × 3 columns</p>\n",
       "</div>"
      ],
      "text/plain": [
       "     year  avg_temp  10_Year_Moving_Average\n",
       "0    1750      8.72                     NaN\n",
       "1    1751      7.98                     NaN\n",
       "2    1752      5.78                     NaN\n",
       "3    1753      8.39                     NaN\n",
       "4    1754      8.47                     NaN\n",
       "..    ...       ...                     ...\n",
       "261  2011      9.52                   9.554\n",
       "262  2012      9.51                   9.548\n",
       "263  2013      9.61                   9.556\n",
       "264  2014      9.57                   9.581\n",
       "265  2015      9.83                   9.594\n",
       "\n",
       "[266 rows x 3 columns]"
      ]
     },
     "execution_count": 27,
     "metadata": {},
     "output_type": "execute_result"
    }
   ],
   "source": [
    "global_data"
   ]
  },
  {
   "cell_type": "code",
   "execution_count": 28,
   "metadata": {},
   "outputs": [
    {
     "data": {
      "text/html": [
       "<div>\n",
       "<style scoped>\n",
       "    .dataframe tbody tr th:only-of-type {\n",
       "        vertical-align: middle;\n",
       "    }\n",
       "\n",
       "    .dataframe tbody tr th {\n",
       "        vertical-align: top;\n",
       "    }\n",
       "\n",
       "    .dataframe thead th {\n",
       "        text-align: right;\n",
       "    }\n",
       "</style>\n",
       "<table border=\"1\" class=\"dataframe\">\n",
       "  <thead>\n",
       "    <tr style=\"text-align: right;\">\n",
       "      <th></th>\n",
       "      <th>year</th>\n",
       "      <th>avg_temp</th>\n",
       "      <th>10_Year_Moving_Average</th>\n",
       "    </tr>\n",
       "  </thead>\n",
       "  <tbody>\n",
       "    <tr>\n",
       "      <th>0</th>\n",
       "      <td>1750</td>\n",
       "      <td>8.72</td>\n",
       "      <td>NaN</td>\n",
       "    </tr>\n",
       "    <tr>\n",
       "      <th>1</th>\n",
       "      <td>1751</td>\n",
       "      <td>7.98</td>\n",
       "      <td>NaN</td>\n",
       "    </tr>\n",
       "    <tr>\n",
       "      <th>2</th>\n",
       "      <td>1752</td>\n",
       "      <td>5.78</td>\n",
       "      <td>NaN</td>\n",
       "    </tr>\n",
       "    <tr>\n",
       "      <th>3</th>\n",
       "      <td>1753</td>\n",
       "      <td>8.39</td>\n",
       "      <td>NaN</td>\n",
       "    </tr>\n",
       "    <tr>\n",
       "      <th>4</th>\n",
       "      <td>1754</td>\n",
       "      <td>8.47</td>\n",
       "      <td>NaN</td>\n",
       "    </tr>\n",
       "    <tr>\n",
       "      <th>5</th>\n",
       "      <td>1755</td>\n",
       "      <td>8.36</td>\n",
       "      <td>NaN</td>\n",
       "    </tr>\n",
       "    <tr>\n",
       "      <th>6</th>\n",
       "      <td>1756</td>\n",
       "      <td>8.85</td>\n",
       "      <td>NaN</td>\n",
       "    </tr>\n",
       "    <tr>\n",
       "      <th>7</th>\n",
       "      <td>1757</td>\n",
       "      <td>9.02</td>\n",
       "      <td>NaN</td>\n",
       "    </tr>\n",
       "    <tr>\n",
       "      <th>8</th>\n",
       "      <td>1758</td>\n",
       "      <td>6.74</td>\n",
       "      <td>NaN</td>\n",
       "    </tr>\n",
       "    <tr>\n",
       "      <th>9</th>\n",
       "      <td>1759</td>\n",
       "      <td>7.99</td>\n",
       "      <td>8.03</td>\n",
       "    </tr>\n",
       "  </tbody>\n",
       "</table>\n",
       "</div>"
      ],
      "text/plain": [
       "   year  avg_temp  10_Year_Moving_Average\n",
       "0  1750      8.72                     NaN\n",
       "1  1751      7.98                     NaN\n",
       "2  1752      5.78                     NaN\n",
       "3  1753      8.39                     NaN\n",
       "4  1754      8.47                     NaN\n",
       "5  1755      8.36                     NaN\n",
       "6  1756      8.85                     NaN\n",
       "7  1757      9.02                     NaN\n",
       "8  1758      6.74                     NaN\n",
       "9  1759      7.99                    8.03"
      ]
     },
     "execution_count": 28,
     "metadata": {},
     "output_type": "execute_result"
    }
   ],
   "source": [
    "global_data.head(10)"
   ]
  },
  {
   "cell_type": "code",
   "execution_count": 46,
   "metadata": {},
   "outputs": [
    {
     "data": {
      "text/plain": [
       "<matplotlib.legend.Legend at 0x25f24b8d940>"
      ]
     },
     "execution_count": 46,
     "metadata": {},
     "output_type": "execute_result"
    },
    {
     "data": {
      "image/png": "[encoded data removed]",
      "text/plain": [
       "<Figure size 864x648 with 1 Axes>"
      ]
     },
     "metadata": {
      "needs_background": "light"
     },
     "output_type": "display_data"
    }
   ],
   "source": [
    "global_data.plot(x ='year', y='10_Year_Moving_Average', kind = 'line', figsize=(12,9))\n",
    "#https://www.datacamp.com/community/tutorials/moving-averages-in-pandas\n",
    "\n",
    "plt.ylabel('Temp')\n",
    "\n",
    "plt.xlabel('Year')\n",
    "# Set the y axis label of the current axis.\n",
    "plt.ylabel('Temperature - Degrees Celsius')\n",
    "#Set title\n",
    "plt.title('Global Moving Average Temperature Comparison')\n",
    "\n",
    "plt.legend()"
   ]
  },
  {
   "cell_type": "code",
   "execution_count": 30,
   "metadata": {},
   "outputs": [],
   "source": [
    "#Because there are few rows missing (0 out of 266 for global_data and 4 out of 271 for cardiff data, the )"
   ]
  },
  {
   "cell_type": "code",
   "execution_count": 31,
   "metadata": {},
   "outputs": [
    {
     "data": {
      "text/plain": [
       "0      8.72\n",
       "1      7.98\n",
       "2      5.78\n",
       "3      8.39\n",
       "4      8.47\n",
       "       ... \n",
       "261    9.52\n",
       "262    9.51\n",
       "263    9.61\n",
       "264    9.57\n",
       "265    9.83\n",
       "Name: avg_temp, Length: 266, dtype: float64"
      ]
     },
     "execution_count": 31,
     "metadata": {},
     "output_type": "execute_result"
    }
   ],
   "source": [
    "global_data.iloc[:,1]"
   ]
  },
  {
   "cell_type": "code",
   "execution_count": null,
   "metadata": {},
   "outputs": [],
   "source": []
  },
  {
   "cell_type": "code",
   "execution_count": 45,
   "metadata": {},
   "outputs": [
    {
     "data": {
      "text/plain": [
       "<matplotlib.legend.Legend at 0x25f249cb5e0>"
      ]
     },
     "execution_count": 45,
     "metadata": {},
     "output_type": "execute_result"
    },
    {
     "data": {
      "image/png": "[encoded data removed]",
      "text/plain": [
       "<Figure size 864x648 with 1 Axes>"
      ]
     },
     "metadata": {
      "needs_background": "light"
     },
     "output_type": "display_data"
    }
   ],
   "source": [
    "cardiff_data.plot(x ='year', y='10_Year_Moving_Average', kind = 'line', figsize=(12,9))\n",
    "#https://www.datacamp.com/community/tutorials/moving-averages-in-pandas\n",
    "\n",
    "plt.ylabel('Temp')\n",
    "\n",
    "plt.xlabel('Year')\n",
    "# Set the y axis label of the current axis.\n",
    "plt.ylabel('Temperature - Degrees Celsius')\n",
    "#Set title\n",
    "plt.title('Cardiff City Moving Average Temperature Comparison')\n",
    "\n",
    "plt.legend()"
   ]
  },
  {
   "cell_type": "code",
   "execution_count": 34,
   "metadata": {},
   "outputs": [
    {
     "data": {
      "text/plain": [
       "'\\nSimilar:\\n• We can see from the graph that both Cardiff and the world have an upwards temperature trend over time.\\n• This seems to be getting ‘steeper’/mor exponential toward the end of the graph, particularly around 1975 onwards. \\n• There is lots of fluctuation by around a degree, but this fluctuation is decreasing after 1900.\\nDifferent:\\n• Cardiff has been slightly higher than the global temperature by about 0.5 degrees, \\nand hitting a higher maximum temperature above 10 degrees\\n• Both had a decrease around 1820, But the global temperature had a much lower dip.\\n'"
      ]
     },
     "execution_count": 34,
     "metadata": {},
     "output_type": "execute_result"
    }
   ],
   "source": [
    "#Observations:\n",
    "\n",
    "'''\n",
    "Similar:\n",
    "• We can see from the graph that both Cardiff and the world have an upwards temperature trend over time.\n",
    "• This seems to be getting ‘steeper’/mor exponential toward the end of the graph, particularly around 1975 onwards. \n",
    "• There is lots of fluctuation by around a degree, but this fluctuation is decreasing after 1900.\n",
    "Different:\n",
    "• Cardiff has been slightly higher than the global temperature by about 0.5 degrees, \n",
    "and hitting a higher maximum temperature above 10 degrees\n",
    "• Both had a decrease around 1820, But the global temperature had a much lower dip.\n",
    "'''"
   ]
  },
  {
   "cell_type": "code",
   "execution_count": 40,
   "metadata": {},
   "outputs": [
    {
     "data": {
      "text/plain": [
       "<matplotlib.legend.Legend at 0x25f235289d0>"
      ]
     },
     "execution_count": 40,
     "metadata": {},
     "output_type": "execute_result"
    },
    {
     "data": {
      "image/png": "[encoded data removed]",
      "text/plain": [
       "<Figure size 432x288 with 1 Axes>"
      ]
     },
     "metadata": {
      "needs_background": "light"
     },
     "output_type": "display_data"
    }
   ],
   "source": [
    "##https://www.w3resource.com/graphics/matplotlib/basic/matplotlib-basic-exercise-5.php\n",
    "'''The following code was adjusted from the above link\n",
    "Seeting x, x2, y, y2 sets the coordiantes for the two lines\n",
    "And the plt.plot() method from matplotlib plots these two lines on the graph\n",
    "The plt.x/ylabel put the text at the x and y axis respectively that we can see on the graph\n",
    "\n",
    "'''\n",
    "\n",
    "\n",
    "x = cardiff_data['year']\n",
    "x2 = global_data['year']\n",
    "\n",
    "y = cardiff_data['10_Year_Moving_Average']\n",
    "y2 = global_data['10_Year_Moving_Average']\n",
    "\n",
    "plt.plot(x, y, label='Cardiff')\n",
    "# line 2 points\n",
    "\n",
    "# plotting the line 2 points \n",
    "plt.plot(x2, y2, label='Global')\n",
    "\n",
    "plt.xlabel('Year')\n",
    "# Set the y axis label of the current axis.\n",
    "plt.ylabel('Temperature - Degrees Celsius')\n",
    "#Set title\n",
    "plt.title('Cardiff City vs Global 10-year\\n Moving Average Temperature Comparison')\n",
    "\n",
    "plt.legend()"
   ]
  },
  {
   "cell_type": "code",
   "execution_count": null,
   "metadata": {},
   "outputs": [],
   "source": [
    "plt.plot(global_data['10_Year_Moving_Average'],label='data')\n"
   ]
  },
  {
   "cell_type": "code",
   "execution_count": null,
   "metadata": {},
   "outputs": [],
   "source": [
    "plt.plot(x1, y1, label = \"line 1\")\n",
    "# line 2 points\n",
    "\n",
    "# plotting the line 2 points \n",
    "plt.plot(x2, y2, label = \"line 2\")\n",
    "\n",
    "#https://www.w3resource.com/graphics/matplotlib/basic/matplotlib-basic-exercise-5.php"
   ]
  }
 ],
 "metadata": {
  "kernelspec": {
   "display_name": "Python 3",
   "language": "python",
   "name": "python3"
  },
  "language_info": {
   "codemirror_mode": {
    "name": "ipython",
    "version": 3
   },
   "file_extension": ".py",
   "mimetype": "text/x-python",
   "name": "python",
   "nbconvert_exporter": "python",
   "pygments_lexer": "ipython3",
   "version": "3.8.3"
  }
 },
 "nbformat": 4,
 "nbformat_minor": 4
}
